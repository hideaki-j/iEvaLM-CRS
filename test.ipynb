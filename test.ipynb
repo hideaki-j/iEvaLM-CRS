{
 "cells": [
  {
   "cell_type": "code",
   "execution_count": 1,
   "metadata": {},
   "outputs": [
    {
     "name": "stdout",
     "output_type": "stream",
     "text": [
      "200\n",
      "I would recommend the following items: 1: Super Troopers (2001)\n",
      "2: Super Troopers 2 (2018)\n",
      "3: Beerfest (2006)\n",
      "Hi, have you seen The Matrix (1999)?\n"
     ]
    }
   ],
   "source": [
    "import requests\n",
    "\n",
    "url = \"http://127.0.0.1:5000/\"\n",
    "\n",
    "context = []\n",
    "data = {\n",
    "    \"context\": context,\n",
    "    \"message\": \"Hi I am looking for a movie like Super Troopers (2001)\"\n",
    "}\n",
    "\n",
    "response = requests.post(url, json=data)\n",
    "print(response.status_code)\n",
    "print(response.text)\n",
    "\n",
    "context += [\"Hi I am looking for a movie like Super Troopers (2001)\", response.text]\n",
    "data = {\n",
    "    \"context\": context,\n",
    "    \"message\": \"I loved Black Panther (2018)\"\n",
    "}\n",
    "\n",
    "response = requests.post(url, json=data)"
   ]
  },
  {
   "cell_type": "code",
   "execution_count": null,
   "metadata": {},
   "outputs": [],
   "source": []
  }
 ],
 "metadata": {
  "kernelspec": {
   "display_name": "240902_nolwenn",
   "language": "python",
   "name": "python3"
  },
  "language_info": {
   "codemirror_mode": {
    "name": "ipython",
    "version": 3
   },
   "file_extension": ".py",
   "mimetype": "text/x-python",
   "name": "python",
   "nbconvert_exporter": "python",
   "pygments_lexer": "ipython3",
   "version": "3.9.16"
  }
 },
 "nbformat": 4,
 "nbformat_minor": 2
}
